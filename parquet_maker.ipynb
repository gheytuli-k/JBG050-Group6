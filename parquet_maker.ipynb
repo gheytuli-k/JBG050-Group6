{
 "cells": [
  {
   "attachments": {},
   "cell_type": "markdown",
   "metadata": {},
   "source": [
    "##### This code allows you to extract data from CSV files and store it in a Parquet file format, which facilitates easier loading and retrieval of the data in the future."
   ]
  },
  {
   "cell_type": "code",
   "execution_count": null,
   "metadata": {},
   "outputs": [],
   "source": [
    "import os\n",
    "import pandas as pd"
   ]
  },
  {
   "cell_type": "code",
   "execution_count": null,
   "metadata": {},
   "outputs": [],
   "source": [
    "def read_files(directory_path, desired_police_stations):\n",
    "    \"\"\"\n",
    "    Read in all CSV files in a directory and concatenate them into a single dataframe.\n",
    "    \n",
    "    Args:\n",
    "        directory_path (str): Path to the directory containing the CSV files.\n",
    "        desired_police_stations (list): List of desired police station names.\n",
    "        \n",
    "    Returns:\n",
    "        pd.DataFrame: Combined dataframe containing data from all CSV files.\n",
    "    \"\"\"\n",
    "    # Clean desired police station names\n",
    "    desired_police_stations = [station.lower().replace('-', '') for station in desired_police_stations]\n",
    "    \n",
    "    # Get a list of all CSV files in the directory\n",
    "    file_names = [f for f in os.listdir(directory_path) if f.endswith('.csv')]\n",
    "    \n",
    "    # Initialize an empty list to store dataframes\n",
    "    dfs = []\n",
    "    \n",
    "    # Read each CSV file and append the dataframes to the list\n",
    "    for file_name in file_names:\n",
    "        # Extract the police station name from the file name\n",
    "        police_station = ''.join(file_name.lower().split('-'))[6:-10]\n",
    "        \n",
    "        if police_station in desired_police_stations:\n",
    "            print(f'Reading file: {file_name}')\n",
    "            file_path = os.path.join(directory_path, file_name)\n",
    "            df = pd.read_csv(file_path)\n",
    "            dfs.append(df)\n",
    "    \n",
    "    # Concatenate all dataframes into a single dataframe\n",
    "    combined_df = pd.concat(dfs, ignore_index=True)\n",
    "    \n",
    "    return combined_df\n",
    "\n",
    "\n",
    "# Set the directory path\n",
    "directory_path = 'Data/street'\n",
    "\n",
    "# Define the desired police stations\n",
    "police_stations = ['metropolitan']\n",
    "\n",
    "# Read the files and get the combined dataframe\n",
    "combined_data = read_files(directory_path, police_stations)"
   ]
  },
  {
   "cell_type": "code",
   "execution_count": null,
   "metadata": {},
   "outputs": [],
   "source": [
    "combined_data.head(5)"
   ]
  },
  {
   "cell_type": "code",
   "execution_count": null,
   "metadata": {},
   "outputs": [],
   "source": [
    "# Filter the combined dataframe for 'Burglary' crime type\n",
    "burglary_df = combined_data[combined_data['Crime type'] == 'Burglary'].copy()"
   ]
  },
  {
   "cell_type": "code",
   "execution_count": null,
   "metadata": {},
   "outputs": [],
   "source": [
    "# Save the burglary dataframe to a Parquet file\n",
    "burglary_df.to_parquet('burglary.parquet') "
   ]
  }
 ],
 "metadata": {
  "kernelspec": {
   "display_name": "Python 3",
   "language": "python",
   "name": "python3"
  },
  "language_info": {
   "codemirror_mode": {
    "name": "ipython",
    "version": 3
   },
   "file_extension": ".py",
   "mimetype": "text/x-python",
   "name": "python",
   "nbconvert_exporter": "python",
   "pygments_lexer": "ipython3",
   "version": "3.9.7"
  },
  "orig_nbformat": 4
 },
 "nbformat": 4,
 "nbformat_minor": 2
}
