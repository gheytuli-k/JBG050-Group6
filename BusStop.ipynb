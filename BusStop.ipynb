{
 "cells": [
  {
   "attachments": {},
   "cell_type": "markdown",
   "metadata": {},
   "source": [
    "# Analysis around bus stop"
   ]
  },
  {
   "attachments": {},
   "cell_type": "markdown",
   "metadata": {},
   "source": [
    "### Neccessary libraries to import"
   ]
  },
  {
   "cell_type": "code",
   "execution_count": null,
   "metadata": {},
   "outputs": [],
   "source": [
    "import folium\n",
    "import numpy as np\n",
    "import pandas as pd\n",
    "import seaborn as sns\n",
    "import geopandas as gpd\n",
    "import matplotlib.pyplot as plt\n",
    "from scipy.spatial import KDTree\n",
    "from geopandas import GeoDataFrame\n",
    "from shapely.geometry import Point\n",
    "from folium.plugins import HeatMap\n",
    "from geopandas import GeoDataFrame\n",
    "from pyproj import CRS, Transformer\n",
    "from typing import Dict, List, Tuple\n",
    "from geopy.distance import distance as geopy_distance"
   ]
  },
  {
   "attachments": {},
   "cell_type": "markdown",
   "metadata": {},
   "source": [
    "### Neccesary functions to define"
   ]
  },
  {
   "cell_type": "code",
   "execution_count": null,
   "metadata": {},
   "outputs": [],
   "source": [
    "def convert_bng_to_latlon(chunk: pd.DataFrame) -> pd.DataFrame:\n",
    "    \"\"\"\n",
    "    Converts British National Grid coordinates to latitude and longitude using WGS84 CRS.\n",
    "\n",
    "    Args:\n",
    "        chunk: DataFrame containing 'Location_Easting' and 'Location_Northing' columns.\n",
    "\n",
    "    Returns:\n",
    "        DataFrame: The input DataFrame with additional 'Latitude' and 'Longitude' columns.\n",
    "    \"\"\"\n",
    "    bng_crs = CRS.from_string('EPSG:27700')  # British National Grid CRS\n",
    "    wgs84_crs = CRS.from_string('EPSG:4326')  # WGS84 CRS (latitude, longitude)\n",
    "\n",
    "    transformer = Transformer.from_crs(bng_crs, wgs84_crs, always_xy=True)\n",
    "\n",
    "    # Apply the coordinate transformation to each row of the chunk DataFrame\n",
    "    chunk[['Longitude', 'Latitude']] = chunk.apply(\n",
    "        lambda row: pd.Series(transformer.transform(row['Location_Easting'], row['Location_Northing'])),\n",
    "        axis=1\n",
    "    )\n",
    "\n",
    "    return chunk"
   ]
  },
  {
   "cell_type": "code",
   "execution_count": null,
   "metadata": {},
   "outputs": [],
   "source": [
    "def assign_bus_stops_to_lsoa(bus_df: pd.DataFrame, Barnet_df: pd.DataFrame, london_lsoa: GeoDataFrame) -> Dict[str, List[int]]:\n",
    "    \"\"\"Assigns bus stops to corresponding LSOAs (Lower Layer Super Output Areas) based on their geographic coordinates.\n",
    "\n",
    "    Args:\n",
    "        bus_df (DataFrame): DataFrame containing bus stop data with columns 'Latitude' and 'Longitude'.\n",
    "        Barnet_df (DataFrame): DataFrame containing LSOA names.\n",
    "        london_lsoa (GeoDataFrame): GeoDataFrame containing LSOA boundaries.\n",
    "\n",
    "    Returns:\n",
    "        Dict[str, List[int]]: A dictionary mapping LSOA names to a list of corresponding bus stop indices.\n",
    "    \"\"\"\n",
    "    \n",
    "    # Get the unique LSOA names from Barnet_df\n",
    "    Barnet_LSOA = Barnet_df['LSOA name'].unique()\n",
    "\n",
    "    # Create a dictionary to store the LSOA names and the corresponding bus stops\n",
    "    lsoa_bus_stops = {}\n",
    "\n",
    "    print(f'There are {len(Barnet_LSOA)} LSOAs to be processed.')\n",
    "    \n",
    "    counter = 0\n",
    "    # Iterate over each LSOA name\n",
    "    for lsoa_name in Barnet_LSOA:\n",
    "        # Filter the LSOA data based on the specified name\n",
    "        filtered_lsoa = london_lsoa[london_lsoa['lsoa11nm'] == lsoa_name]\n",
    "        \n",
    "        # Iterate over each row in the bus_df DataFrame\n",
    "        for index, row in bus_df.iterrows():\n",
    "            # Get the easting and northing coordinates\n",
    "            northing = row['Latitude']\n",
    "            easting = row['Longitude']\n",
    "            \n",
    "            # Check if the bus stop falls within the filtered LSOA boundaries\n",
    "            point = Point(easting, northing)\n",
    "            if filtered_lsoa.geometry.contains(point).any():\n",
    "                # Add the LSOA name as an attribute to the bus stop\n",
    "                bus_df.at[index, 'LSOA name'] = lsoa_name\n",
    "                # Add the bus stop to the dictionary of LSOA names and bus stops\n",
    "                if lsoa_name in lsoa_bus_stops:\n",
    "                    lsoa_bus_stops[lsoa_name].append(index)\n",
    "                else:\n",
    "                    lsoa_bus_stops[lsoa_name] = [index]\n",
    "        \n",
    "        # Remove the checked LSOA name from further iterations\n",
    "        if lsoa_name in lsoa_bus_stops:\n",
    "            for stop_index in lsoa_bus_stops[lsoa_name]:\n",
    "                bus_df.at[stop_index, 'Checked'] = True\n",
    "\n",
    "        counter += 1\n",
    "        print(f'{counter}. {lsoa_name} was processed.')\n",
    "\n",
    "    # Display the dictionary of LSOA names and the corresponding bus stops\n",
    "    return lsoa_bus_stops"
   ]
  },
  {
   "cell_type": "code",
   "execution_count": null,
   "metadata": {},
   "outputs": [],
   "source": [
    "def count_burglaries_within_distance(bus_location_df: pd.DataFrame, crime_df: pd.DataFrame, distance: float) -> pd.DataFrame:\n",
    "    \"\"\"\n",
    "    Count the number of burglaries within a specified distance of each bus location.\n",
    "\n",
    "    Args:\n",
    "        bus_location_df: DataFrame containing bus locations with latitude and longitude columns.\n",
    "        crime_df: DataFrame containing crime locations with latitude and longitude columns.\n",
    "        distance: Distance in meters specifying the range for counting burglaries.\n",
    "\n",
    "    Returns:\n",
    "        The original bus location DataFrame with an additional column for burglary counts.\n",
    "\n",
    "    \"\"\"\n",
    "\n",
    "    # Get the latitude and longitude values as arrays\n",
    "    bus_locations = bus_location_df[['Latitude', 'Longitude']].values\n",
    "    \n",
    "    # Add a new column with the burglary counts to the bus location dataframe\n",
    "    bus_location_df[f\"{distance}_meter_away\"] = 0\n",
    "    \n",
    "    # Iterate over each bus location\n",
    "    for i, bus_location in enumerate(bus_locations):\n",
    "        num_burglaries = 0\n",
    "        # Iterate over each crime location\n",
    "        for _, crime_row in crime_df.iterrows():\n",
    "            crime_location = (crime_row['Latitude'], crime_row['Longitude'])\n",
    "            \n",
    "            # Calculate the distance between the bus and crime location\n",
    "            dist = geopy_distance(bus_location, crime_location).meters\n",
    "            \n",
    "            # Increment the count if the distance is within the specified range\n",
    "            if dist <= distance:\n",
    "                num_burglaries += 1\n",
    "        \n",
    "        # Set the burglary count for the current bus location\n",
    "        bus_location_df.at[i, f\"{distance}_meter_away\"] = num_burglaries\n",
    "        print(f'{i} bus stops have been proceed.')\n",
    "\n",
    "    return bus_location_df\n"
   ]
  },
  {
   "cell_type": "code",
   "execution_count": null,
   "metadata": {},
   "outputs": [],
   "source": [
    "def calculate_distance_to_nearest_bus(filtered_counts: pd.DataFrame, bus_locations: pd.DataFrame) -> pd.DataFrame:\n",
    "    \"\"\"\n",
    "    Calculates the distance to the nearest bus stop for each location in filtered_counts DataFrame.\n",
    "\n",
    "    Args:\n",
    "        filtered_counts (pd.DataFrame): DataFrame containing locations to calculate distances for.\n",
    "        bus_locations (pd.DataFrame): DataFrame containing bus stop locations.\n",
    "\n",
    "    Returns:\n",
    "        pd.DataFrame: DataFrame with added columns for distance to the nearest bus stop,\n",
    "                      bus stop longitude, and bus stop latitude.\n",
    "    \"\"\"\n",
    "\n",
    "    bus_locations = bus_locations[['Latitude', 'Longitude']]\n",
    "    tree = KDTree(bus_locations)\n",
    "\n",
    "    distances, indices = tree.query(filtered_counts[['Latitude', 'Longitude']], k=1)\n",
    "\n",
    "    nearest_bus_stops = bus_locations.iloc[indices.flatten()]\n",
    "\n",
    "    filtered_counts['distance to bus'] = [\n",
    "        geopy.distance.distance((lat1, lon1), (lat2, lon2)).meters\n",
    "        for (lat1, lon1), (lat2, lon2) in zip(\n",
    "            filtered_counts[['Latitude', 'Longitude']].values,\n",
    "            nearest_bus_stops.values\n",
    "        )\n",
    "    ]\n",
    "\n",
    "    filtered_counts['bus_long'] = nearest_bus_stops['Longitude'].values\n",
    "    filtered_counts['bus_lat'] = nearest_bus_stops['Latitude'].values\n",
    "\n",
    "    return filtered_counts"
   ]
  },
  {
   "cell_type": "code",
   "execution_count": null,
   "metadata": {},
   "outputs": [],
   "source": [
    "def count_burglaries_within_distance(bus_location_df, crime_df, distance):\n",
    "    # Get the latitude and longitude values as arrays\n",
    "    bus_locations = bus_location_df[['Latitude', 'Longitude']].values\n",
    "    \n",
    "    # Add a new column with the burglary counts to the bus location dataframe\n",
    "    bus_location_df[f\"{distance}_meter_away\"] = 0\n",
    "    \n",
    "    print(f'{len(bus_locations)} Bus station will be proccessed.')\n",
    "    # Iterate over each bus location\n",
    "    for i, bus_location in enumerate(bus_locations):\n",
    "        num_burglaries = 0\n",
    "    \n",
    "        # Iterate over each crime location\n",
    "        for _, crime_row in crime_df.iterrows():\n",
    "            crime_location = (crime_row['Latitude'], crime_row['Longitude'])\n",
    "            \n",
    "            # Calculate the distance between the bus and crime location\n",
    "            dist = geopy_distance(bus_location, crime_location).meters\n",
    "            \n",
    "            # Increment the count if the distance is within the specified range\n",
    "            if dist <= distance:\n",
    "                num_burglaries += 1\n",
    "        \n",
    "        # Set the burglary count for the current bus location\n",
    "        bus_location_df.at[i, f\"{distance}_meter_away\"] = num_burglaries\n",
    "        print(f'{i} Bus station has been proccessed.')\n",
    "    return bus_location_df\n"
   ]
  },
  {
   "cell_type": "code",
   "execution_count": null,
   "metadata": {},
   "outputs": [],
   "source": [
    "def count_burglaries_within_distance(bus_location_df: pd.DataFrame, crime_df: pd.DataFrame, distance: int) -> Tuple[pd.DataFrame, int]:\n",
    "    \"\"\"\n",
    "    Counts the number of crimes within a specified distance from each bus stop.\n",
    "\n",
    "    Args:\n",
    "        bus_location_df (pd.DataFrame): DataFrame containing bus stop locations.\n",
    "        crime_df (pd.DataFrame): DataFrame containing crime locations.\n",
    "        distance (int): Distance in meters to consider for counting crimes.\n",
    "\n",
    "    Returns:\n",
    "        Tuple[pd.DataFrame, int]: A tuple containing the modified bus location DataFrame with added columns for\n",
    "                                  the number of crimes within the specified distance, and the number of unique crimes.\n",
    "    \"\"\"\n",
    "\n",
    "    # Get the latitude and longitude values as arrays\n",
    "    bus_locations = bus_location_df[['Latitude', 'Longitude']].values\n",
    "\n",
    "    # Add a new column with the burglary counts to the bus location DataFrame\n",
    "    bus_location_df[f\"{distance}_meter_away\"] = 0\n",
    "\n",
    "    unique_crimes = set()  # Set to store unique crimes\n",
    "\n",
    "    print(f'{len(bus_locations)} bus stations will be processed.')\n",
    "\n",
    "    # Iterate over each bus location\n",
    "    for i, bus_location in enumerate(bus_locations):\n",
    "        num_burglaries = 0\n",
    "\n",
    "        # Set to store unique crimes for the current bus location\n",
    "        unique_crimes_for_bus = set()\n",
    "\n",
    "        # Iterate over each crime location\n",
    "        for crime_index in crime_df.index:\n",
    "            crime_row = crime_df.loc[crime_index]\n",
    "            crime_location = (crime_row['Latitude'], crime_row['Longitude'])\n",
    "\n",
    "            # Calculate the distance between the bus and crime location\n",
    "            dist = geopy.distance.distance(bus_location, crime_location).meters\n",
    "\n",
    "            # Increment the count if the distance is within the specified range\n",
    "            if dist <= distance:\n",
    "                num_burglaries += 1\n",
    "                unique_crimes_for_bus.add(crime_index)\n",
    "\n",
    "        # Set the burglary count for the current bus location\n",
    "        bus_location_df.at[i, f\"{distance}_meter_away\"] = num_burglaries\n",
    "\n",
    "        # Update the set of unique crimes\n",
    "        unique_crimes.update(unique_crimes_for_bus)\n",
    "\n",
    "        print(f'{i+1} bus station has been processed.')\n",
    "\n",
    "    return bus_location_df, len(unique_crimes)"
   ]
  },
  {
   "attachments": {},
   "cell_type": "markdown",
   "metadata": {},
   "source": [
    "### Cleaning up the bus stop dataframe"
   ]
  },
  {
   "cell_type": "code",
   "execution_count": null,
   "metadata": {},
   "outputs": [],
   "source": [
    "# Read the bus stops data from the CSV file into a DataFrame\n",
    "bus_df = pd.read_csv(\"Data/Bus station analysis/bus-stops-10-06-15.csv\")"
   ]
  },
  {
   "cell_type": "code",
   "execution_count": null,
   "metadata": {},
   "outputs": [],
   "source": [
    "# Filter out rows with NaN values in the 'Location_Easting' or 'Location_Northing' columns\n",
    "bus_df = bus_df.dropna(subset=['Location_Easting', 'Location_Northing']).copy()"
   ]
  },
  {
   "cell_type": "code",
   "execution_count": null,
   "metadata": {},
   "outputs": [],
   "source": [
    "chunk_size: int = 10000\n",
    "total_rows: int = len(bus_df)\n",
    "processed_rows: int = 0\n",
    "\n",
    "# Process DataFrame in chunks\n",
    "for i in range(0, total_rows, chunk_size):\n",
    "    # Extract a chunk of data\n",
    "    chunk = bus_df.iloc[i:i+chunk_size].copy()\n",
    "    \n",
    "    # Convert British National Grid coordinates to latitude and longitude\n",
    "    chunk = convert_bng_to_latlon(chunk)\n",
    "    \n",
    "    # Update processed rows count\n",
    "    processed_rows += len(chunk)\n",
    "    print(f\"Processed {processed_rows} out of {total_rows} rows\")\n",
    "        \n",
    "    # Update the original DataFrame with the chunk results\n",
    "    bus_df.loc[i:i+chunk_size, ['Latitude', 'Longitude']] = chunk[['Latitude', 'Longitude']]\n",
    "\n",
    "# Display the updated DataFrame\n",
    "bus_df.head()"
   ]
  },
  {
   "cell_type": "code",
   "execution_count": null,
   "metadata": {},
   "outputs": [],
   "source": [
    "columns_to_drop = ['Location_Easting', 'Location_Northing', 'Heading', 'Virtual_Bus_Stop', 'Naptan_Atco', 'Bus_Stop_Code', 'Stop_Code_LBSL']\n",
    "\n",
    "# Drop the specified columns from the DataFrame\n",
    "bus_df = bus_df.drop(columns=columns_to_drop)\n",
    "bus_df"
   ]
  },
  {
   "attachments": {},
   "cell_type": "markdown",
   "metadata": {},
   "source": [
    "### Creating some visualization about bus stops"
   ]
  },
  {
   "cell_type": "code",
   "execution_count": null,
   "metadata": {},
   "outputs": [],
   "source": [
    "# Create a map centered around London\n",
    "LondonMapWithBus = folium.Map(location=[51.5074, -0.1278], zoom_start=12)\n",
    "\n",
    "# Iterate over each row in the dataframe\n",
    "for index, row in bus_df.head(150).iterrows():\n",
    "    # Get the latitude and longitude coordinates\n",
    "    latitude = row['Latitude']\n",
    "    longitude = row['Longitude']\n",
    "    \n",
    "    # Create a marker for each bus stop\n",
    "    bicycle_icon = folium.Icon(icon='bus', prefix='fa', color='green')\n",
    "    bus_stop_marker = folium.Marker(location=[latitude, longitude],\n",
    "                                    popup=row['Stop_Name'],\n",
    "                                    icon=bicycle_icon)\n",
    "    \n",
    "    # Add the marker to the map\n",
    "    bus_stop_marker.add_to(LondonMapWithBus)\n",
    "\n",
    "# Display the map\n",
    "LondonMapWithBus"
   ]
  },
  {
   "cell_type": "code",
   "execution_count": null,
   "metadata": {},
   "outputs": [],
   "source": [
    "# Uncomment the save code line to save the image\n",
    "# Save the map as an HTML file\n",
    "# LondonMapWithBus.save(\"Pictures/Bus station analysis/LondonMapWithBus.html\")"
   ]
  },
  {
   "cell_type": "code",
   "execution_count": null,
   "metadata": {},
   "outputs": [],
   "source": [
    "# Load the LSOA boundary data for London\n",
    "london_lsoa = gpd.read_file('London.geojson')\n",
    "\n",
    "# Filter the LSOA data for Barnet\n",
    "barnet_lsoa = london_lsoa[london_lsoa['lsoa11nm'].str.contains('Barnet')]"
   ]
  },
  {
   "cell_type": "code",
   "execution_count": null,
   "metadata": {},
   "outputs": [],
   "source": [
    "# Create a map centered around London\n",
    "BarnetMapWithBus = folium.Map(location=[51.5074, -0.1278], zoom_start=12)\n",
    "\n",
    "# Iterate over each row in the dataframe\n",
    "for index, row in bus_df.iterrows():\n",
    "    # Get the latitude and longitude coordinates\n",
    "    latitude = row['Latitude']\n",
    "    longitude = row['Longitude']\n",
    "    \n",
    "    # Check if the bus stop falls within Barnet LSOA boundaries\n",
    "    point = Point(longitude, latitude)\n",
    "    if barnet_lsoa.geometry.contains(point).any():\n",
    "        # Create a marker for each bus stop\n",
    "        bicycle_icon = folium.Icon(icon='bus', prefix='fa', color='green')\n",
    "        bus_stop_marker = folium.Marker(location=[latitude, longitude],\n",
    "                                        popup=row['Stop_Name'],\n",
    "                                        icon=bicycle_icon)\n",
    "        \n",
    "        # Add the marker to the map\n",
    "        bus_stop_marker.add_to(BarnetMapWithBus)\n",
    "\n",
    "# Display the map\n",
    "BarnetMapWithBus"
   ]
  },
  {
   "cell_type": "code",
   "execution_count": null,
   "metadata": {},
   "outputs": [],
   "source": [
    "# Uncomment the save code line to save the image\n",
    "# Save the map as an HTML file\n",
    "# BarnetMapWithBus.save(\"Pictures/Bus station analysis/BarnetMapWithBus.html\")"
   ]
  },
  {
   "cell_type": "code",
   "execution_count": null,
   "metadata": {},
   "outputs": [],
   "source": [
    "# Define the list of desired LSOA(hendon and west hendon)\n",
    "desired_LSOA = ['Barnet 031A', 'Barnet 031B', 'Barnet 031C', 'Barnet 032A', 'Barnet 032B', 'Barnet 032C',\n",
    "              'Barnet 032D', 'Barnet 032E', 'Barnet 034A', 'Barnet 034B', 'Barnet 034D', 'Barnet 031D',\n",
    "              'Barnet 032F', 'Barnet 034C', 'Barnet 039D', 'Barnet 036B', 'Barnet 036C', 'Barnet 036D',\n",
    "              'Barnet 036F']"
   ]
  },
  {
   "cell_type": "code",
   "execution_count": null,
   "metadata": {},
   "outputs": [],
   "source": [
    "# Filter the LSOA data based on the specified names\n",
    "filtered_lsoa = london_lsoa[london_lsoa['lsoa11nm'].isin(desired_LSOA)]\n",
    "\n",
    "# Create a map centered around London\n",
    "DesiredWardsMap = folium.Map(location=[51.5074, -0.1278], zoom_start=12)\n",
    "\n",
    "# Iterate over each row in the dataframe\n",
    "for index, row in bus_df.iterrows():\n",
    "    # Get the easting and northing coordinates\n",
    "    latitude = row['Latitude']\n",
    "    longitude = row['Longitude']\n",
    "    \n",
    "    # Check if the bus stop falls within the filtered LSOA boundaries\n",
    "    point = Point(longitude, latitude)\n",
    "    if filtered_lsoa.geometry.contains(point).any():\n",
    "        # Create a marker for each bus stop\n",
    "        bicycle_icon = folium.Icon(icon='bus', prefix='fa', color='green')\n",
    "        bus_stop_marker = folium.Marker(location=[latitude, longitude],\n",
    "                                        popup=row['Stop_Name'],\n",
    "                                        icon=bicycle_icon)\n",
    "        \n",
    "        # Add the marker to the map\n",
    "        bus_stop_marker.add_to(DesiredWardsMap)\n",
    "\n",
    "# Display the map\n",
    "DesiredWardsMap"
   ]
  },
  {
   "cell_type": "code",
   "execution_count": null,
   "metadata": {},
   "outputs": [],
   "source": [
    "# Uncomment the save code line to save the image\n",
    "# Save the map as an HTML file\n",
    "DesiredWardsMap.save(\"Pictures/Bus station analysis/DesiredWardsMap.html\")"
   ]
  },
  {
   "attachments": {},
   "cell_type": "markdown",
   "metadata": {},
   "source": [
    "### Adding the LSOA name attribute to the each bus stop"
   ]
  },
  {
   "cell_type": "code",
   "execution_count": null,
   "metadata": {},
   "outputs": [],
   "source": [
    "# Read the data from the Parquet file \n",
    "df_burg = pd.read_parquet(\"burglary.parquet\")\n",
    "\n",
    "# Drop rows with NaN values in \"Longitude\" and \"Latitude\" columns\n",
    "df_burg.dropna(subset=['Longitude', 'Latitude'], inplace=True)\n",
    "\n",
    "# Reset the index of the DataFrame after dropping rows\n",
    "df_burg.reset_index(drop=True, inplace=True)\n",
    "\n",
    "# Create a new DataFrame with rows containing 'Barnet' in LSOA name\n",
    "Barnet_df = df_burg.loc[df_burg['LSOA name'].str.contains('Barnet')]\n",
    "\n",
    "# Reset the index of the new DataFrame\n",
    "Barnet_df.reset_index(drop=True, inplace=True)\n",
    "\n",
    "# Get the count and unique values of LSOA names in the Barnet DataFrame\n",
    "lsoa_count = len(Barnet_df['LSOA name'].unique())\n",
    "Barnet_lsoa_names = Barnet_df['LSOA name'].unique()\n",
    "\n",
    "lsoa_count, Barnet_lsoa_names"
   ]
  },
  {
   "cell_type": "code",
   "execution_count": null,
   "metadata": {},
   "outputs": [],
   "source": [
    "lsoa_bus_stops = assign_bus_stops_to_lsoa(bus_df, Barnet_df, london_lsoa)"
   ]
  },
  {
   "cell_type": "code",
   "execution_count": null,
   "metadata": {},
   "outputs": [],
   "source": [
    "# Iterate over the dictionary of LSOA names and bus stops\n",
    "for lsoa_name, bus_stops in lsoa_bus_stops.items():\n",
    "    # Add the LSOA name to the 'LSOA name' column for the corresponding bus stops\n",
    "    bus_df.loc[bus_stops, 'LSOA name'] = lsoa_name\n",
    "\n",
    "# Display the updated bus_df DataFrame\n",
    "Barnet_bus = bus_df[bus_df['LSOA name'].isnull() == False].copy()\n",
    "Barnet_bus"
   ]
  },
  {
   "attachments": {},
   "cell_type": "markdown",
   "metadata": {},
   "source": [
    "### Analyzing the relation between bus stops and the crime hot spots"
   ]
  },
  {
   "cell_type": "code",
   "execution_count": null,
   "metadata": {},
   "outputs": [],
   "source": [
    "# Extract the data for burglary in the desired area(Hendon and west Hendon)\n",
    "desired_burg = df_burg[df_burg['LSOA name'].isin(desired_LSOA)]\n",
    "# Count the number of burglarys by the location\n",
    "coor_burg = desired_burg[['Latitude', 'Longitude']].value_counts().rename_axis(['Latitude', 'Longitude']).reset_index(name='Count')\n",
    "\n",
    "# Plot the density map\n",
    "plt.figure(figsize=(10, 8))\n",
    "plt.scatter(coor_burg['Latitude'], coor_burg['Longitude'], s=coor_burg['Count']*50, alpha=0.6)\n",
    "plt.xlabel('Longitude')\n",
    "plt.ylabel('Latitude')\n",
    "plt.title('Density Map of Burglary Incidents in Hendon and west Henodn')\n",
    "plt.show()"
   ]
  },
  {
   "cell_type": "code",
   "execution_count": null,
   "metadata": {},
   "outputs": [],
   "source": [
    "# Uncomment the save code line to save the image\n",
    "# Save the plot as an png file\n",
    "# plt.savefig('Pictures/bus station analysis/DensityMapHendon.png')"
   ]
  },
  {
   "cell_type": "code",
   "execution_count": null,
   "metadata": {},
   "outputs": [],
   "source": [
    "# Filter the LSOA data based on the specified names\n",
    "filtered_lsoa = london_lsoa[london_lsoa['lsoa11nm'].isin(desired_LSOA)]\n",
    "\n",
    "# Create a map centered around London\n",
    "HeatMapwithBus = folium.Map(location=[51.5074, -0.1278], zoom_start=12)\n",
    "\n",
    "# Create a HeatMap layer for the density map\n",
    "heat_data = [[row['Latitude'], row['Longitude'], row['Count']] for index, row in coor_burg.iterrows()]\n",
    "HeatMap(heat_data).add_to(HeatMapwithBus)\n",
    "\n",
    "# Iterate over each row in the dataframe\n",
    "for index, row in bus_df.iterrows():\n",
    "    # Get the easting and northing coordinates\n",
    "    latitude = row['Latitude']\n",
    "    longitude = row['Longitude']\n",
    "    \n",
    "    # Check if the bus stop falls within the filtered LSOA boundaries\n",
    "    point = Point(longitude, latitude)\n",
    "    if filtered_lsoa.geometry.contains(point).any():\n",
    "        # Create a marker for each bus stop\n",
    "        bicycle_icon = folium.Icon(icon='bus', prefix='fa', color='green')\n",
    "        bus_stop_marker = folium.Marker(location=[latitude, longitude],\n",
    "                                        popup=row['Stop_Name'],\n",
    "                                        icon=bicycle_icon)\n",
    "        \n",
    "        # Add the marker to the map\n",
    "        bus_stop_marker.add_to(HeatMapwithBus)\n",
    "\n",
    "# Display the map\n",
    "HeatMapwithBus"
   ]
  },
  {
   "cell_type": "code",
   "execution_count": null,
   "metadata": {},
   "outputs": [],
   "source": [
    "# Uncomment the save code line to save the image\n",
    "# Save the map as an HTML file\n",
    "# HeatMapwithBus.save('Pictures/Bus station analysis/HeatMapwithBus.html')"
   ]
  },
  {
   "cell_type": "code",
   "execution_count": null,
   "metadata": {},
   "outputs": [],
   "source": [
    "# Filter the LSOA data based on the specified names\n",
    "filtered_lsoa = london_lsoa[london_lsoa['lsoa11nm'].isin(desired_LSOA)]\n",
    "\n",
    "# Read the London GeoJSON file\n",
    "london_geojson = gpd.read_file('London.geojson')\n",
    "\n",
    "# Filter the GeoJSON data to include only the desired LSOA boundaries\n",
    "filtered_geojson = london_geojson[london_geojson['lsoa11nm'].isin(desired_LSOA)]\n",
    "\n",
    "# Create a map centered around London\n",
    "HeatMapWithBusLSOA = folium.Map(location=[51.5074, -0.1278], zoom_start=12)\n",
    "\n",
    "# Create a HeatMap layer for the density map\n",
    "heat_data = [[row['Latitude'], row['Longitude'], row['Count']] for index, row in coor_burg.iterrows()]\n",
    "HeatMap(heat_data).add_to(HeatMapWithBusLSOA)\n",
    "\n",
    "# Add the LSOA boundaries to the map with black color\n",
    "folium.GeoJson(filtered_geojson, style_function=lambda x: {'color': 'black'}).add_to(HeatMapWithBusLSOA)\n",
    "\n",
    "# Iterate over each row in the dataframe\n",
    "for index, row in bus_df.iterrows():\n",
    "    # Get the easting and northing coordinates\n",
    "    latitude = row['Latitude']\n",
    "    longitude = row['Longitude']\n",
    "    \n",
    "    # Check if the bus stop falls within the filtered LSOA boundaries\n",
    "    point = Point(longitude, latitude)\n",
    "    if filtered_lsoa.geometry.contains(point).any():\n",
    "        # Create a marker for each bus stop\n",
    "        bicycle_icon = folium.Icon(icon='bus', prefix='fa', color='green')\n",
    "        bus_stop_marker = folium.Marker(location=[latitude, longitude],\n",
    "                                        popup=row['Stop_Name'],\n",
    "                                        icon=bicycle_icon)\n",
    "        \n",
    "        # Add the marker to the map\n",
    "        bus_stop_marker.add_to(HeatMapWithBusLSOA)\n",
    "\n",
    "# Display the map\n",
    "HeatMapWithBusLSOA\n"
   ]
  },
  {
   "cell_type": "code",
   "execution_count": null,
   "metadata": {},
   "outputs": [],
   "source": [
    "# Uncomment the save code line to save the image\n",
    "# Save the map as an HTML file\n",
    "# HeatMapWithBusLSOA.save('Pictures/Bus station analysis/HeatMapWithBusLSOA.html')"
   ]
  },
  {
   "cell_type": "code",
   "execution_count": null,
   "metadata": {},
   "outputs": [],
   "source": [
    "# Filter the LSOA data based on the specified names\n",
    "filtered_lsoa = london_lsoa[london_lsoa['lsoa11nm'].isin(desired_LSOA)]\n",
    "\n",
    "# Create a map centered around London\n",
    "BubbleMapWithBus = folium.Map(location=[51.5074, -0.1278], zoom_start=12)\n",
    "\n",
    "# Iterate over each row in the density data\n",
    "for index, row in coor_burg.iterrows():\n",
    "    # Get the latitude, longitude, and count\n",
    "    latitude = row['Latitude']\n",
    "    longitude = row['Longitude']\n",
    "    count = row['Count']\n",
    "    \n",
    "    # Create a CircleMarker for each data point\n",
    "    circle_marker = folium.CircleMarker(location=[latitude, longitude],\n",
    "                                        radius=count,\n",
    "                                        color='red',\n",
    "                                        fill=True,\n",
    "                                        fill_color='red',\n",
    "                                        fill_opacity=0.6)\n",
    "    \n",
    "    # Add the CircleMarker to the map\n",
    "    circle_marker.add_to(BubbleMapWithBus)\n",
    "\n",
    "# Iterate over each row in the bus stop data\n",
    "for index, row in bus_df.iterrows():\n",
    "    # Get the easting and northing coordinates\n",
    "    latitude = row['Latitude']\n",
    "    longitude = row['Longitude']\n",
    "    \n",
    "    # Check if the bus stop falls within the filtered LSOA boundaries\n",
    "    point = Point(longitude, latitude)\n",
    "    if filtered_lsoa.geometry.contains(point).any():\n",
    "        # Create a marker for each bus stop\n",
    "        bicycle_icon = folium.Icon(icon='bus', prefix='fa', color='green')\n",
    "        bus_stop_marker = folium.Marker(location=[latitude, longitude],\n",
    "                                        popup=row['Stop_Name'],\n",
    "                                        icon=bicycle_icon)\n",
    "        \n",
    "        # Add the marker to the map\n",
    "        bus_stop_marker.add_to(BubbleMapWithBus)\n",
    "\n",
    "# Display the map\n",
    "BubbleMapWithBus"
   ]
  },
  {
   "cell_type": "code",
   "execution_count": null,
   "metadata": {},
   "outputs": [],
   "source": [
    "# Uncomment the save code line to save the image\n",
    "# Save the map as an HTML file\n",
    "# BubbleMapWithBus.save('Pictures/Bus station analysis/BubbleMapWithBus.html')"
   ]
  },
  {
   "attachments": {},
   "cell_type": "markdown",
   "metadata": {},
   "source": [
    "### The relation between the bus stop and their distance to the crime location"
   ]
  },
  {
   "cell_type": "code",
   "execution_count": null,
   "metadata": {},
   "outputs": [],
   "source": [
    "barnet_crime_count = Barnet_df['LSOA name'].value_counts()\n",
    "barnet_crime_count"
   ]
  },
  {
   "cell_type": "code",
   "execution_count": null,
   "metadata": {},
   "outputs": [],
   "source": [
    "barnet_bus_count = Barnet_bus['LSOA name'].value_counts()\n",
    "barnet_bus_count"
   ]
  },
  {
   "cell_type": "code",
   "execution_count": null,
   "metadata": {},
   "outputs": [],
   "source": [
    "sum(barnet_bus_count)"
   ]
  },
  {
   "cell_type": "code",
   "execution_count": null,
   "metadata": {},
   "outputs": [],
   "source": [
    "# Filter the crime count and bus count to include only the common LSOA names\n",
    "common_lsoa_names = list(set(barnet_crime_count.index) & set(barnet_bus_count.index))\n",
    "filtered_barnet_crime_count = barnet_crime_count[common_lsoa_names]\n",
    "filtered_barnet_bus_count = barnet_bus_count[common_lsoa_names]\n",
    "\n",
    "# Create a DataFrame with the filtered counts\n",
    "df = pd.DataFrame({'Crime Count': filtered_barnet_crime_count, 'Bus Count': filtered_barnet_bus_count})\n",
    "\n",
    "# Calculate the correlation between the counts\n",
    "correlation = df['Crime Count'].corr(df['Bus Count'])\n",
    "\n",
    "# Print the correlation\n",
    "print(\"Correlation between Crime Count and Bus Count:\", correlation)"
   ]
  },
  {
   "cell_type": "code",
   "execution_count": null,
   "metadata": {},
   "outputs": [],
   "source": [
    "# Create a scatter plot of the crime count and bus count\n",
    "plt.scatter(df['Crime Count'], df['Bus Count'])\n",
    "plt.xlabel('Crime Count')\n",
    "plt.ylabel('Bus Count')\n",
    "plt.title('Correlation between Crime Count and Bus Count')\n",
    "plt.grid(True)\n",
    "\n",
    "# Display the plot\n",
    "plt.show()"
   ]
  },
  {
   "cell_type": "code",
   "execution_count": null,
   "metadata": {},
   "outputs": [],
   "source": [
    "# Uncomment the save code line to save the image\n",
    "# Save the plot as an png file\n",
    "plt.savefig('correlation_plot.png')"
   ]
  },
  {
   "attachments": {},
   "cell_type": "markdown",
   "metadata": {},
   "source": [
    "### Calculating the Distance of each crime to the closest bus stop"
   ]
  },
  {
   "cell_type": "code",
   "execution_count": null,
   "metadata": {},
   "outputs": [],
   "source": [
    "unique_location_combinations = len(Barnet_df.value_counts(['Longitude', 'Latitude']))\n",
    "print(\"Number of unique combinations of longitude and latitude:\", unique_location_combinations)"
   ]
  },
  {
   "cell_type": "code",
   "execution_count": null,
   "metadata": {},
   "outputs": [],
   "source": [
    "count_threshold = 3\n",
    "filtered_combinations = Barnet_df.value_counts(['Longitude', 'Latitude'])[Barnet_df.value_counts(['Longitude', 'Latitude']) >= count_threshold]\n",
    "unique_filtered_combinations = len(filtered_combinations)\n",
    "print(\"Number of unique combinations with count >= 3:\", unique_filtered_combinations)"
   ]
  },
  {
   "cell_type": "code",
   "execution_count": null,
   "metadata": {},
   "outputs": [],
   "source": [
    "count_threshold = 3\n",
    "total_combinations = len(Barnet_df.value_counts(['Longitude', 'Latitude']))\n",
    "filtered_combinations = len(Barnet_df.value_counts(['Longitude', 'Latitude'])[Barnet_df.value_counts(['Longitude', 'Latitude']) >= count_threshold])\n",
    "rows_to_drop = total_combinations - filtered_combinations\n",
    "print(\"Number of rows to drop:\", rows_to_drop)"
   ]
  },
  {
   "cell_type": "code",
   "execution_count": null,
   "metadata": {},
   "outputs": [],
   "source": [
    "count_threshold = 3\n",
    "location_value_counts = Barnet_df.value_counts(['Longitude', 'Latitude'])\n",
    "filtered_counts = location_value_counts[location_value_counts >= count_threshold]\n",
    "\n",
    "# Create a larger figure\n",
    "plt.figure(figsize=(15, 10))\n",
    "\n",
    "# Create a distribution plot\n",
    "sns.histplot(filtered_counts, kde=True)\n",
    "\n",
    "# Set plot labels and title\n",
    "plt.xlabel('Crime Count')\n",
    "plt.ylabel('Frequency')\n",
    "plt.title('Distribution of Crime counts for more than 3 crimes per location')\n",
    "\n",
    "# Display the plot\n",
    "plt.show()"
   ]
  },
  {
   "cell_type": "code",
   "execution_count": null,
   "metadata": {},
   "outputs": [],
   "source": [
    "# Uncomment the save code line to save the image\n",
    "# Save the plot as an png file\n",
    "# plt.savefig('distribution_plot.png', dpi=300)"
   ]
  },
  {
   "attachments": {},
   "cell_type": "markdown",
   "metadata": {},
   "source": [
    "# checked till here"
   ]
  },
  {
   "cell_type": "code",
   "execution_count": null,
   "metadata": {},
   "outputs": [],
   "source": [
    "filtered_counts = pd.DataFrame(filtered_counts).reset_index()\n",
    "filtered_counts"
   ]
  },
  {
   "cell_type": "code",
   "execution_count": null,
   "metadata": {},
   "outputs": [],
   "source": [
    "# Assuming filtered_counts is your DataFrame\n",
    "filtered_counts['distance to bus'] = np.nan\n",
    "filtered_counts"
   ]
  },
  {
   "cell_type": "code",
   "execution_count": null,
   "metadata": {},
   "outputs": [],
   "source": [
    "Barnet_bus_location = Barnet_bus[['Longitude', 'Latitude']].reset_index()\n",
    "Barnet_bus_location = Barnet_bus_location[['Longitude', 'Latitude']]\n",
    "Barnet_bus_location"
   ]
  },
  {
   "cell_type": "code",
   "execution_count": null,
   "metadata": {},
   "outputs": [],
   "source": [
    "filtered_counts = calculate_distance_to_nearest_bus(filtered_counts, Barnet_bus_location)\n",
    "filtered_counts"
   ]
  },
  {
   "cell_type": "code",
   "execution_count": null,
   "metadata": {},
   "outputs": [],
   "source": [
    "# Calculate the correlation between 'count' and 'distance to bus'\n",
    "correlation = filtered_counts['count'].corr(filtered_counts['distance to bus'])\n",
    "print(f\"Correlation between 'count' and 'distance to bus': {correlation}\")\n",
    "\n",
    "# Create a scatter plot\n",
    "plt.scatter(subset_filtered_counts['distance to bus'], subset_filtered_counts['count'])\n",
    "plt.xlabel('Distance to Bus station')\n",
    "plt.ylabel('Crime Count')\n",
    "plt.title('Correlation between Count of Crimes and Distance to Bus stations')\n",
    "plt.show()"
   ]
  },
  {
   "cell_type": "code",
   "execution_count": null,
   "metadata": {},
   "outputs": [],
   "source": [
    "# Uncomment the save code line to save the image\n",
    "# Save the plot as an png file\n",
    "# plt.savefig('Pictures/Bus station analysis/CorrelationCrimeCountandDistancetoBus.png')"
   ]
  },
  {
   "attachments": {},
   "cell_type": "markdown",
   "metadata": {},
   "source": [
    "## season bus stops"
   ]
  },
  {
   "cell_type": "code",
   "execution_count": null,
   "metadata": {},
   "outputs": [],
   "source": [
    "Barnet_df['Date month'] = pd.to_datetime(Barnet_df['Month']).dt.month\n",
    "\n",
    "# Select values with the first 4 months of the year\n",
    "selected_values = Barnet_df[Barnet_df['Date month'].isin([1, 2, 3, 4])]\n",
    "\n",
    "# Print the selected values\n",
    "selected_values['Month'].unique()"
   ]
  },
  {
   "cell_type": "code",
   "execution_count": null,
   "metadata": {},
   "outputs": [],
   "source": [
    "# Assuming Barnet_df is your DataFrame containing the data\n",
    "location_value_counts = selected_values.value_counts(['Longitude', 'Latitude'])\n",
    "filtered_counts_season = location_value_counts[location_value_counts >= 0]\n",
    "\n",
    "# Create a larger figure\n",
    "plt.figure(figsize=(10, 6))\n",
    "\n",
    "# Create a distribution plot\n",
    "sns.histplot(filtered_counts_season, kde=True)\n",
    "\n",
    "# Set plot labels and title\n",
    "plt.xlabel('Count')\n",
    "plt.ylabel('Frequency')\n",
    "plt.title('Distribution of Counts')\n",
    "\n",
    "# Display the plot\n",
    "plt.show()"
   ]
  },
  {
   "cell_type": "code",
   "execution_count": null,
   "metadata": {},
   "outputs": [],
   "source": [
    "filtered_counts_season = pd.DataFrame(filtered_counts_season).reset_index()\n",
    "filtered_counts_season"
   ]
  },
  {
   "cell_type": "code",
   "execution_count": null,
   "metadata": {},
   "outputs": [],
   "source": [
    "# Assuming filtered_counts is your DataFrame\n",
    "filtered_counts_season['distance to bus'] = np.nan\n",
    "filtered_counts_season"
   ]
  },
  {
   "cell_type": "code",
   "execution_count": null,
   "metadata": {},
   "outputs": [],
   "source": [
    "Barnet_bus_location = Barnet_bus[['Longitude', 'Latitude']].reset_index()\n",
    "Barnet_bus_location = Barnet_bus_location[['Longitude', 'Latitude']]\n",
    "Barnet_bus_location"
   ]
  },
  {
   "cell_type": "code",
   "execution_count": null,
   "metadata": {},
   "outputs": [],
   "source": [
    "calculate_distance_to_nearest_bus(filtered_counts_season, Barnet_bus_location)"
   ]
  },
  {
   "cell_type": "code",
   "execution_count": null,
   "metadata": {},
   "outputs": [],
   "source": [
    "# Assuming subset_filtered_counts is your DataFrame with the 'count' and 'distance to bus' columns\n",
    "\n",
    "# Calculate the correlation between 'count' and 'distance to bus'\n",
    "correlation = subset_filtered_counts['count'].corr(subset_filtered_counts['distance to bus'])\n",
    "print(f\"Correlation between 'crime count' and 'distance to bus station' in first 4 months of the year: {correlation}\")"
   ]
  },
  {
   "attachments": {},
   "cell_type": "markdown",
   "metadata": {},
   "source": [
    "## Number of crimes within X meters away from bus stops"
   ]
  },
  {
   "cell_type": "code",
   "execution_count": null,
   "metadata": {},
   "outputs": [],
   "source": [
    "Barnet_bus_location = Barnet_bus[['Longitude', 'Latitude']].reset_index()\n",
    "Barnet_bus_location = Barnet_bus_location[['Longitude', 'Latitude']]\n",
    "Barnet_bus_location"
   ]
  },
  {
   "cell_type": "code",
   "execution_count": null,
   "metadata": {},
   "outputs": [],
   "source": [
    "distance = 100000  # Specify the distance in meters\n",
    "result_df, Nr_crimes = count_burglaries_within_distance(Barnet_bus_location, Barnet_df, distance)\n",
    "result_df.to_csv(f'{distance} from busstop.csv')"
   ]
  }
 ],
 "metadata": {
  "kernelspec": {
   "display_name": "Python 3",
   "language": "python",
   "name": "python3"
  },
  "language_info": {
   "codemirror_mode": {
    "name": "ipython",
    "version": 3
   },
   "file_extension": ".py",
   "mimetype": "text/x-python",
   "name": "python",
   "nbconvert_exporter": "python",
   "pygments_lexer": "ipython3",
   "version": "3.9.7"
  },
  "orig_nbformat": 4
 },
 "nbformat": 4,
 "nbformat_minor": 2
}
