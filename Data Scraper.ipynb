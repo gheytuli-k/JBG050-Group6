{
 "cells": [
  {
   "cell_type": "code",
   "execution_count": 2,
   "id": "558cc8d5",
   "metadata": {},
   "outputs": [],
   "source": [
    "import os\n",
    "from zipfile import ZipFile"
   ]
  },
  {
   "cell_type": "code",
   "execution_count": 65,
   "id": "2f976f86",
   "metadata": {},
   "outputs": [],
   "source": [
    "def __main__(path):\n",
    "\n",
    "    #Makes the directories to store the csv files.\n",
    "    try:\n",
    "        os.mkdir(path + 'street')\n",
    "        os.mkdir(path + 'outcome')\n",
    "        os.mkdir(path + 'stop_search')\n",
    "\n",
    "    except:\n",
    "        pass\n",
    "\n",
    "    \n",
    "    is_date_file = lambda file_name: file_name.split('-')[0].isnumeric()\n",
    "\n",
    "    #To work with the CSV files efficiently, it is necessary to move them into a single directory categorized by their content.\n",
    "    for directory in os.listdir(path):\n",
    "        if is_date_file(directory):\n",
    "            for csv_file in os.listdir(path + directory):\n",
    "                file_info = ''.join(csv_file.split('-'))\n",
    "                source_path = os.path.join(os.path.abspath(path), directory, csv_file)\n",
    "\n",
    "                if 'stopandsearch' in file_info:\n",
    "                    os.rename(source_path, os.path.join(os.path.abspath(path + 'stop_search'), csv_file))\n",
    "                    print(directory + '/' + csv_file + ' -> ' +  os.path.join(os.path.abspath(path + 'stop_search'), csv_file))\n",
    "\n",
    "                elif 'outcome' in file_info:\n",
    "                    os.rename(source_path, os.path.join(os.path.abspath(path + 'outcome'), csv_file))\n",
    "                    print(directory + '/' + csv_file + ' -> ' +  os.path.join(os.path.abspath(path + 'outcome'), csv_file))\n",
    "\n",
    "                elif 'street' in file_info:\n",
    "                    os.rename(source_path, os.path.join(os.path.abspath(path + 'street'), csv_file))\n",
    "                    print(directory + '/' + csv_file + ' -> ' +  os.path.join(os.path.abspath(path + 'street'), csv_file))\n",
    "\n",
    "            #We remove the directories after emptied all their contents.\n",
    "            os.rmdir(os.path.join(os.path.abspath(path), directory))"
   ]
  },
  {
   "cell_type": "code",
   "execution_count": null,
   "id": "38aa2b45",
   "metadata": {},
   "outputs": [],
   "source": [
    "#Change the variable path and give it the path of the directory that contains all the directories of unzipped data\n",
    "__path__ = 'Data/'\n",
    "__main__(__path__)"
   ]
  }
 ],
 "metadata": {
  "kernelspec": {
   "display_name": "Python 3 (ipykernel)",
   "language": "python",
   "name": "python3"
  },
  "language_info": {
   "codemirror_mode": {
    "name": "ipython",
    "version": 3
   },
   "file_extension": ".py",
   "mimetype": "text/x-python",
   "name": "python",
   "nbconvert_exporter": "python",
   "pygments_lexer": "ipython3",
   "version": "3.9.7"
  }
 },
 "nbformat": 4,
 "nbformat_minor": 5
}
