{
 "cells": [
  {
   "attachments": {},
   "cell_type": "markdown",
   "metadata": {},
   "source": [
    "#### This code performs analysis specifically on the burglary data from the Metropolitan files, aiming to provide a comprehensive overview of the data and gain insights into its characteristics."
   ]
  },
  {
   "cell_type": "code",
   "execution_count": null,
   "metadata": {},
   "outputs": [],
   "source": [
    "import pandas as pd\n",
    "import matplotlib.pyplot as plt\n",
    "import folium\n",
    "import seaborn as sns\n",
    "import geopandas as gpd"
   ]
  },
  {
   "cell_type": "code",
   "execution_count": null,
   "metadata": {},
   "outputs": [],
   "source": [
    "# Read the parquet file containing burglary data in the Metropolitan Police area in the UK\n",
    "burglary_metropolitan_df = pd.read_parquet('burglary.parquet')\n",
    "\n",
    "# Display the first 10 rows of the DataFrame\n",
    "burglary_metropolitan_df.head(10)"
   ]
  },
  {
   "cell_type": "code",
   "execution_count": null,
   "metadata": {},
   "outputs": [],
   "source": [
    "# Get the length of the burglary_metropolitan_df DataFrame\n",
    "length = len(burglary_metropolitan_df)\n",
    "\n",
    "# Print the length\n",
    "print(length)"
   ]
  },
  {
   "cell_type": "code",
   "execution_count": null,
   "metadata": {},
   "outputs": [],
   "source": [
    "# Display information about the burglary_metropolitan_df DataFrame\n",
    "burglary_metropolitan_df.info()"
   ]
  },
  {
   "cell_type": "code",
   "execution_count": null,
   "metadata": {},
   "outputs": [],
   "source": [
    "# Filter the burglary_metropolitan_df DataFrame to retrieve rows where the 'Crime ID' column is null\n",
    "null_crime_id_rows = burglary_metropolitan_df[burglary_metropolitan_df['Crime ID'].isnull()]\n",
    "\n",
    "# Display the filtered DataFrame\n",
    "null_crime_id_rows"
   ]
  },
  {
   "cell_type": "code",
   "execution_count": null,
   "metadata": {},
   "outputs": [],
   "source": [
    "# Count the number of null values in the 'Crime ID' column of the burglary_metropolitan_df DataFrame\n",
    "null_crime_id_count = sum(burglary_metropolitan_df['Crime ID'].isnull())\n",
    "\n",
    "# Print the count of null values\n",
    "print(null_crime_id_count)"
   ]
  },
  {
   "cell_type": "code",
   "execution_count": null,
   "metadata": {},
   "outputs": [],
   "source": [
    "# Filter the burglary_metropolitan_df DataFrame to retrieve rows where the 'Longitude' column is null\n",
    "null_longitude_rows = burglary_metropolitan_df[burglary_metropolitan_df['Longitude'].isnull()]\n",
    "\n",
    "# Display the filtered DataFrame\n",
    "null_longitude_rows"
   ]
  },
  {
   "cell_type": "code",
   "execution_count": null,
   "metadata": {},
   "outputs": [],
   "source": [
    "# Print the counts of null values for the columns 'Longitue', 'Latitude' and 'LSOA code'\n",
    "sum(burglary_metropolitan_df['Longitude'].isnull()), sum(burglary_metropolitan_df['Latitude'].isnull()), sum(burglary_metropolitan_df['LSOA code'].isnull())"
   ]
  },
  {
   "cell_type": "code",
   "execution_count": null,
   "metadata": {},
   "outputs": [],
   "source": [
    "# Retrieve unique values from the 'Falls within' column of the burglary_metropolitan_df DataFrame\n",
    "police_centers = burglary_metropolitan_df['Falls within'].unique()\n",
    "\n",
    "# Display the unique police center values\n",
    "print(police_centers)"
   ]
  },
  {
   "cell_type": "code",
   "execution_count": null,
   "metadata": {},
   "outputs": [],
   "source": [
    "# Calculate the number of unique police centers in the 'Falls within' column of the burglary_metropolitan_df DataFrame\n",
    "num_police_centers = len(police_centers)\n",
    "\n",
    "# Print the number of unique police centers\n",
    "print(num_police_centers)"
   ]
  },
  {
   "cell_type": "code",
   "execution_count": null,
   "metadata": {},
   "outputs": [],
   "source": [
    "# Count the number of null values in the 'Falls within' column of the burglary_metropolitan_df DataFrame\n",
    "null_falls_within_count = sum(burglary_metropolitan_df['Falls within'].isnull())\n",
    "\n",
    "# Print the count of null values\n",
    "print(null_falls_within_count)"
   ]
  },
  {
   "cell_type": "code",
   "execution_count": null,
   "metadata": {},
   "outputs": [],
   "source": [
    "# Count the occurrences of each unique value in the 'Falls within' column of the burglary_metropolitan_df DataFrame\n",
    "falls_within_counts = burglary_metropolitan_df['Falls within'].value_counts()\n",
    "\n",
    "# Display the value counts\n",
    "print(falls_within_counts)"
   ]
  },
  {
   "cell_type": "code",
   "execution_count": null,
   "metadata": {},
   "outputs": [],
   "source": [
    "# Calculate the distribution of values in the 'Falls within' column\n",
    "value_counts = burglary_metropolitan_df['Falls within'].value_counts().head(15)\n",
    "\n",
    "# Create a larger figure\n",
    "plt.figure(figsize=(15, 10))\n",
    "\n",
    "# Plot the distribution as a bar chart\n",
    "plt.bar(value_counts.index, value_counts.values)\n",
    "plt.xlabel('Value', fontsize=12)\n",
    "plt.ylabel('Frequency', fontsize=12)\n",
    "\n",
    "# Add frequency counts as text labels on top of each bar\n",
    "for i, v in enumerate(value_counts.values):\n",
    "    plt.text(i, v, str(v), color='black', fontweight='bold', ha='center', fontsize=10)\n",
    "\n",
    "# Tilt the x-axis labels\n",
    "plt.xticks(rotation=45, ha='right')\n",
    "\n",
    "# Add a title to the plot\n",
    "plt.title('The distribution of crimes within the police centers', fontsize=14)\n",
    "\n",
    "# Show the plot\n",
    "plt.show()"
   ]
  },
  {
   "cell_type": "code",
   "execution_count": null,
   "metadata": {},
   "outputs": [],
   "source": [
    "# Retrieve unique values from the 'Crime type' column of the burglary_metropolitan_df DataFrame\n",
    "crime_types = burglary_metropolitan_df['Crime type'].unique()\n",
    "\n",
    "# Display the unique crime types\n",
    "print(crime_types)"
   ]
  },
  {
   "cell_type": "code",
   "execution_count": null,
   "metadata": {},
   "outputs": [],
   "source": [
    "# Calculate the number of unique crime types in the 'Crime type' column of the burglary_metropolitan_df DataFrame\n",
    "num_crime_types = len(crime_types)\n",
    "\n",
    "# Print the number of unique crime types\n",
    "print(num_crime_types)"
   ]
  },
  {
   "cell_type": "code",
   "execution_count": null,
   "metadata": {},
   "outputs": [],
   "source": [
    "# Count the number of null values in the 'Crime type' column of the burglary_metropolitan_df DataFrame\n",
    "null_crime_type_count = sum(burglary_metropolitan_df['Crime type'].isnull())\n",
    "\n",
    "# Print the count of null values\n",
    "print(null_crime_type_count)"
   ]
  },
  {
   "cell_type": "code",
   "execution_count": null,
   "metadata": {},
   "outputs": [],
   "source": [
    "# Calculate the count of null values in each column of the burglary_metropolitan_df DataFrame\n",
    "null_value_counts = burglary_metropolitan_df.isnull().sum()\n",
    "\n",
    "# Print the count of null values\n",
    "print(null_value_counts)"
   ]
  },
  {
   "cell_type": "code",
   "execution_count": null,
   "metadata": {},
   "outputs": [],
   "source": [
    "# Create a new DataFrame 'cleaned_data' by dropping rows with null values in the 'Longitude' column\n",
    "cleaned_data = burglary_metropolitan_df.dropna(subset=['Longitude'])\n",
    "\n",
    "# Display the cleaned DataFrame\n",
    "cleaned_data"
   ]
  },
  {
   "cell_type": "code",
   "execution_count": null,
   "metadata": {},
   "outputs": [],
   "source": [
    "# Calculate the count of null values in each column of the cleaned_data DataFrame\n",
    "null_value_counts = cleaned_data.isnull().sum()\n",
    "\n",
    "# Print the count of null values\n",
    "print(null_value_counts)"
   ]
  },
  {
   "cell_type": "code",
   "execution_count": null,
   "metadata": {},
   "outputs": [],
   "source": [
    "# Get unique LSOA codes from the 'LSOA code' column in the cleaned_data dataframe\n",
    "unique_lsoa_codes = cleaned_data['LSOA code'].unique()\n",
    "\n",
    "# Print the unique LSOA codes\n",
    "print(unique_lsoa_codes)"
   ]
  },
  {
   "cell_type": "code",
   "execution_count": null,
   "metadata": {},
   "outputs": [],
   "source": [
    "# Extracting the year from the Month column\n",
    "cleaned_data.loc[:, 'Year'] = pd.to_datetime(cleaned_data['Month']).dt.year.copy()\n",
    "\n",
    "# Extracting the month from the Month column\n",
    "cleaned_data.loc[:, 'Month'] = pd.to_datetime(cleaned_data['Month']).dt.month.copy()"
   ]
  },
  {
   "cell_type": "code",
   "execution_count": null,
   "metadata": {},
   "outputs": [],
   "source": [
    "# Filter the dataframe for a specific month and year\n",
    "target_month = 5\n",
    "target_year = 2022\n",
    "\n",
    "filtered_df = cleaned_data[\n",
    "    (cleaned_data['Month'] == target_month) &\n",
    "    (cleaned_data['Year'] == target_year)\n",
    "].copy()\n",
    "\n",
    "# Group the filtered data by LSOA code and count the number of crimes in each area\n",
    "crime_count = filtered_df.groupby('LSOA code').size().reset_index(name='Count')\n",
    "\n",
    "# Merge the crime count with the filtered dataframe\n",
    "df_merged = pd.merge(filtered_df, crime_count, on='LSOA code')\n",
    "\n",
    "# Create a base map centered around the Metropolitan Police Service area\n",
    "map_heat = folium.Map(location=[51.5074, -0.1278], zoom_start=10)\n",
    "\n",
    "# Create a heat map layer using seaborn's kdeplot\n",
    "heat_layer = sns.kdeplot(\n",
    "    data=df_merged,\n",
    "    x='Longitude',\n",
    "    y='Latitude',\n",
    "    weights='Count',\n",
    "    fill=True,\n",
    "    cmap='viridis',\n",
    "    alpha=0.6,\n",
    "    levels=150\n",
    ").get_figure()\n",
    "\n",
    "# Save the heat map image\n",
    "heat_layer.savefig('Pictures\\Barnet visual\\London_burglary_heatmap.png')\n",
    "\n",
    "# Create a Folium ImageOverlay from the heat map image\n",
    "image_overlay = folium.raster_layers.ImageOverlay(\n",
    "    name='Crime Heat Map',\n",
    "    image='crime_heatmap.png',\n",
    "    bounds=[[df_merged['Latitude'].min(), df_merged['Longitude'].min()],\n",
    "            [df_merged['Latitude'].max(), df_merged['Longitude'].max()]],\n",
    "    opacity=0.6,\n",
    ")\n",
    "\n",
    "# Add the image overlay to the map\n",
    "image_overlay.add_to(map_heat)\n",
    "\n",
    "# Save the map as an HTML file\n",
    "map_heat.save('Pictures/Barnet visual/London_burglary_heatmap_over_map.html')\n",
    "\n",
    "# Display the map\n",
    "map_heat"
   ]
  },
  {
   "cell_type": "code",
   "execution_count": null,
   "metadata": {},
   "outputs": [],
   "source": [
    "# Group the data by LSOA code and count the number of crimes in each area\n",
    "crime_count = cleaned_data.groupby('LSOA code').size().reset_index(name='Count')\n",
    "\n",
    "# Create a base map centered around the Metropolitan Police Service area\n",
    "map_crimes = folium.Map(location=[51.5074, -0.1278], zoom_start=10)\n",
    "\n",
    "# Add the Choropleth layer to the map\n",
    "folium.Choropleth(\n",
    "    geo_data='London.geojson',  # GeoJSON file containing LSOA boundaries\n",
    "    name='Crime Count',\n",
    "    data=crime_count,\n",
    "    columns=['LSOA code', 'Count'],\n",
    "    key_on='feature.properties.lsoa11cd',  # Update with the correct key\n",
    "    fill_color='OrRd',  # Change the color scheme, e.g., 'BuPu', 'YlGn', 'OrRd', etc.\n",
    "    fill_opacity=0.7,\n",
    "    line_opacity=0.2,\n",
    "    legend_name='Number of Crimes',\n",
    ").add_to(map_crimes)\n",
    "\n",
    "# Save the map as an HTML file\n",
    "map_crimes.save('Pictures/Barnet visual/London_burglary_choropleth.html')\n",
    "\n",
    "# Display the map\n",
    "map_crimes"
   ]
  },
  {
   "cell_type": "code",
   "execution_count": null,
   "metadata": {},
   "outputs": [],
   "source": [
    "# Filter the dataframe for a specific month and year\n",
    "target_month = 10\n",
    "target_year = 2022\n",
    "\n",
    "filtered_df = cleaned_data[(cleaned_data['Month'] == target_month) & (cleaned_data['Year'] == target_year)]\n",
    "\n",
    "# Group the filtered data by LSOA code and count the number of crimes in each area\n",
    "crime_count = filtered_df.groupby('LSOA code').size().reset_index(name='Count')\n",
    "\n",
    "# Create a base map centered around the Metropolitan Police Service area\n",
    "map_crimes = folium.Map(location=[51.5074, -0.1278], zoom_start=10)\n",
    "\n",
    "# Add the Choropleth layer to the map\n",
    "folium.Choropleth(\n",
    "    geo_data='London.geojson',  # GeoJSON file containing LSOA boundaries\n",
    "    name='Crime Count',\n",
    "    data=crime_count,\n",
    "    columns=['LSOA code', 'Count'],\n",
    "    key_on='feature.properties.lsoa11cd',  # Update with the correct key\n",
    "    fill_color='OrRd',  # Change the color scheme, e.g., 'BuPu', 'YlGn', 'OrRd', etc.\n",
    "    fill_opacity=0.7,\n",
    "    line_opacity=0.2,\n",
    "    legend_name='Number of Crimes',\n",
    ").add_to(map_crimes)\n",
    "\n",
    "# Display the map\n",
    "map_crimes"
   ]
  },
  {
   "cell_type": "code",
   "execution_count": null,
   "metadata": {},
   "outputs": [],
   "source": [
    "# Load the LSOA boundary data for London\n",
    "london_lsoa = gpd.read_file('London.geojson')\n",
    "\n",
    "# Filter the LSOA data for Barnet\n",
    "barnet_lsoa = london_lsoa[london_lsoa['lsoa11nm'].str.contains('Barnet')]\n",
    "\n",
    "# Display the LSOAs for Barnet\n",
    "print(barnet_lsoa['lsoa11cd'])"
   ]
  },
  {
   "cell_type": "code",
   "execution_count": null,
   "metadata": {},
   "outputs": [],
   "source": [
    "# Filter the data for Barnet\n",
    "barnet_data = cleaned_data[cleaned_data['LSOA code'].isin(barnet_lsoa['lsoa11cd'])]\n",
    "\n",
    "# Group the filtered data by LSOA code and count the number of crimes in each area\n",
    "crime_count = barnet_data.groupby('LSOA code').size().reset_index(name='Count')\n",
    "\n",
    "# Create a base map centered around Barnet\n",
    "map_crimes = folium.Map(location=[51.611, -0.207], zoom_start=11)  # Adjust the coordinates and zoom level as per your preference\n",
    "\n",
    "# Add the Choropleth layer to the map\n",
    "folium.Choropleth(\n",
    "    geo_data='London.geojson',  # GeoJSON file containing LSOA boundaries\n",
    "    name='Crime Count',\n",
    "    data=crime_count,\n",
    "    columns=['LSOA code', 'Count'],\n",
    "    key_on='feature.properties.lsoa11cd',  # Update with the correct key\n",
    "    fill_color='OrRd',  # Change the color scheme, e.g., 'BuPu', 'YlGn', 'OrRd', etc.\n",
    "    fill_opacity=0.7,\n",
    "    line_opacity=0.2,\n",
    "    legend_name='Number of Crimes',\n",
    ").add_to(map_crimes)\n",
    "\n",
    "# Save the map as an HTML file\n",
    "map_crimes.save('Pictures\\Barnet visual\\Barnet_burglary_choropleth.html')\n",
    "\n",
    "# Display the map\n",
    "map_crimes"
   ]
  },
  {
   "cell_type": "code",
   "execution_count": null,
   "metadata": {},
   "outputs": [],
   "source": [
    "# Define the target month and year\n",
    "target_month = 10\n",
    "target_year = 2022\n",
    "\n",
    "# Filter the data for Barnet, specific month, and year\n",
    "barnet_data = cleaned_data[\n",
    "    (cleaned_data['LSOA code'].isin(barnet_lsoa['lsoa11cd'])) &\n",
    "    (cleaned_data['Month'] == target_month) &\n",
    "    (cleaned_data['Year'] == target_year)\n",
    "]\n",
    "\n",
    "# Group the filtered data by LSOA code and count the number of crimes in each area\n",
    "crime_count = barnet_data.groupby('LSOA code').size().reset_index(name='Count')\n",
    "\n",
    "# Create a base map centered around Barnet\n",
    "map_crimes = folium.Map(location=[51.611, -0.207], zoom_start=11)  # Adjust the coordinates and zoom level as per your preference\n",
    "\n",
    "# Add the Choropleth layer to the map\n",
    "folium.Choropleth(\n",
    "    geo_data='London.geojson',  # GeoJSON file containing LSOA boundaries\n",
    "    name='Crime Count',\n",
    "    data=crime_count,\n",
    "    columns=['LSOA code', 'Count'],\n",
    "    key_on='feature.properties.lsoa11cd',  # Update with the correct key\n",
    "    fill_color='YlOrRd',  # Choose a color scheme\n",
    "    fill_opacity=0.7,\n",
    "    line_opacity=0.2,\n",
    "    legend_name='Number of Crimes',\n",
    ").add_to(map_crimes)\n",
    "\n",
    "# Display the map\n",
    "map_crimes"
   ]
  }
 ],
 "metadata": {
  "kernelspec": {
   "display_name": "Python 3",
   "language": "python",
   "name": "python3"
  },
  "language_info": {
   "codemirror_mode": {
    "name": "ipython",
    "version": 3
   },
   "file_extension": ".py",
   "mimetype": "text/x-python",
   "name": "python",
   "nbconvert_exporter": "python",
   "pygments_lexer": "ipython3",
   "version": "3.9.7"
  },
  "orig_nbformat": 4
 },
 "nbformat": 4,
 "nbformat_minor": 2
}
