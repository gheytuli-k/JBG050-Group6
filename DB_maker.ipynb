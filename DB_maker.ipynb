{
 "cells": [
  {
   "cell_type": "code",
   "execution_count": null,
   "metadata": {},
   "outputs": [],
   "source": [
    "import pandas as pd\n",
    "import numpy as np\n",
    "import matplotlib.pyplot as plt\n",
    "import os\n",
    "import folium\n",
    "from haversine import haversine, Unit\n",
    "#import pyodbc"
   ]
  },
  {
   "cell_type": "code",
   "execution_count": null,
   "metadata": {},
   "outputs": [],
   "source": [
    "# Set the directory path\n",
    "dir_path = 'Data/street'\n",
    "\n",
    "def read_files(path):\n",
    "    \"\"\"Read in all CSV files in a directory and concatenate them into a single dataframe\"\"\"\n",
    "    # List all CSV files in the directory\n",
    "    file_names = [f for f in os.listdir(path) if f.endswith('.csv')]\n",
    "    \n",
    "    # Read each CSV file into a separate dataframe\n",
    "    dfs = []\n",
    "    for file_name in file_names:\n",
    "        print(f'Reading file: {file_name}')\n",
    "        file_path = os.path.join(path, file_name)\n",
    "        df1 = pd.read_csv(file_path)\n",
    "        dfs.append(df1)\n",
    "    \n",
    "    # Concatenate all dataframes into a single dataframe\n",
    "    df_combined = pd.concat(dfs, ignore_index=True)\n",
    "    \n",
    "    return df_combined\n",
    "\n",
    "# Call the read_files function to read in all CSV files in the specified directory\n",
    "df = read_files(dir_path)"
   ]
  },
  {
   "cell_type": "code",
   "execution_count": null,
   "metadata": {},
   "outputs": [],
   "source": [
    "df.head(10)"
   ]
  },
  {
   "cell_type": "code",
   "execution_count": null,
   "metadata": {},
   "outputs": [],
   "source": [
    "len(df)"
   ]
  },
  {
   "cell_type": "code",
   "execution_count": null,
   "metadata": {},
   "outputs": [],
   "source": [
    "df.info()"
   ]
  },
  {
   "cell_type": "code",
   "execution_count": null,
   "metadata": {},
   "outputs": [],
   "source": [
    "df[df['Crime ID'].isnull()]"
   ]
  },
  {
   "cell_type": "code",
   "execution_count": null,
   "metadata": {},
   "outputs": [],
   "source": [
    "sum(df['Crime ID'].isnull())"
   ]
  },
  {
   "cell_type": "code",
   "execution_count": null,
   "metadata": {},
   "outputs": [],
   "source": [
    "df[df['Longitude'].isnull()]"
   ]
  },
  {
   "cell_type": "code",
   "execution_count": null,
   "metadata": {},
   "outputs": [],
   "source": [
    "sum(df['Longitude'].isnull()), sum(df['Latitude'].isnull())"
   ]
  },
  {
   "cell_type": "code",
   "execution_count": null,
   "metadata": {},
   "outputs": [],
   "source": [
    "police_centers = df['Falls within'].unique()\n",
    "police_centers"
   ]
  },
  {
   "cell_type": "code",
   "execution_count": null,
   "metadata": {},
   "outputs": [],
   "source": [
    "len(police_centers)"
   ]
  },
  {
   "cell_type": "code",
   "execution_count": null,
   "metadata": {},
   "outputs": [],
   "source": [
    "sum(df['Falls within'].isnull())"
   ]
  },
  {
   "cell_type": "code",
   "execution_count": null,
   "metadata": {},
   "outputs": [],
   "source": [
    "df['Falls within'].value_counts()"
   ]
  },
  {
   "cell_type": "code",
   "execution_count": null,
   "metadata": {},
   "outputs": [],
   "source": [
    "# Calculate the distribution of values in 'my_column'\n",
    "value_counts = df['Falls within'].value_counts().head(15)\n",
    "\n",
    "# Create a larger figure\n",
    "plt.figure(figsize=(15,10))\n",
    "\n",
    "# Plot the distribution as a bar chart\n",
    "plt.bar(value_counts.index, value_counts.values)\n",
    "plt.xlabel('Value', fontsize=12)\n",
    "plt.ylabel('Frequency', fontsize=12)\n",
    "\n",
    "# Add frequency counts as text labels on top of each bar\n",
    "for i, v in enumerate(value_counts.values):\n",
    "    plt.text(i, v, str(v), color='black', fontweight='bold', ha='center', fontsize=10)\n",
    "\n",
    "# Tilt the x-axis labels\n",
    "plt.xticks(rotation=45, ha='right')\n",
    "\n",
    "# Add a title to the plot\n",
    "plt.title('The distribution of crimes within the police centers', fontsize=14)\n",
    "\n",
    "# Show the plot\n",
    "plt.show()"
   ]
  },
  {
   "cell_type": "code",
   "execution_count": null,
   "metadata": {},
   "outputs": [],
   "source": [
    "crime_types = df['Crime type'].unique()\n",
    "crime_types"
   ]
  },
  {
   "cell_type": "code",
   "execution_count": null,
   "metadata": {},
   "outputs": [],
   "source": [
    "len(crime_types)"
   ]
  },
  {
   "cell_type": "code",
   "execution_count": null,
   "metadata": {},
   "outputs": [],
   "source": [
    "sum(df['Crime type'].isnull())"
   ]
  },
  {
   "cell_type": "code",
   "execution_count": null,
   "metadata": {},
   "outputs": [],
   "source": [
    "df.isnull().sum()"
   ]
  },
  {
   "cell_type": "code",
   "execution_count": null,
   "metadata": {},
   "outputs": [],
   "source": [
    "cleaned_data = df.dropna(subset=['Longitude'])\n",
    "cleaned_data"
   ]
  },
  {
   "cell_type": "code",
   "execution_count": null,
   "metadata": {},
   "outputs": [],
   "source": [
    "len(cleaned_data)"
   ]
  },
  {
   "cell_type": "code",
   "execution_count": null,
   "metadata": {},
   "outputs": [],
   "source": [
    "del df"
   ]
  },
  {
   "cell_type": "code",
   "execution_count": null,
   "metadata": {},
   "outputs": [],
   "source": [
    "# Convert 'Latitude' and 'Longitude' columns to a NumPy array\n",
    "coords = cleaned_data[['Latitude', 'Longitude']].to_numpy()\n",
    "\n",
    "# Define the latitude and longitude of London\n",
    "london = (51.509865, -0.118092)\n",
    "\n",
    "index = len(coords)\n",
    "distance = np.zeros(index)\n",
    "\n",
    "for row, point in enumerate(coords):\n",
    "    distance[row] = haversine(london, point, unit=Unit.KILOMETERS)\n",
    "\n",
    "    if row % 1_000_000 == 0:\n",
    "        print(row,'rows got calculated')"
   ]
  },
  {
   "cell_type": "code",
   "execution_count": null,
   "metadata": {},
   "outputs": [],
   "source": [
    "mask = distance <= 100\n",
    "\n",
    "london_df = cleaned_data[mask].copy()\n",
    "london_df['Distance_to_London'] = distance[mask]\n",
    "\n",
    "london_df"
   ]
  },
  {
   "cell_type": "code",
   "execution_count": null,
   "metadata": {},
   "outputs": [],
   "source": [
    "del cleaned_data"
   ]
  },
  {
   "cell_type": "code",
   "execution_count": null,
   "metadata": {},
   "outputs": [],
   "source": [
    "# Plot histogram of the 'my_column' column\n",
    "london_df['Distance_to_London'].hist(bins=25)\n",
    "\n",
    "# Add labels and title to the plot\n",
    "plt.xlabel('Value')\n",
    "plt.ylabel('Frequency')\n",
    "plt.title('Histogram of my_column')\n",
    "\n",
    "# Show the plot\n",
    "plt.show()"
   ]
  },
  {
   "cell_type": "code",
   "execution_count": null,
   "metadata": {},
   "outputs": [],
   "source": [
    "len(london_df)"
   ]
  },
  {
   "cell_type": "code",
   "execution_count": null,
   "metadata": {},
   "outputs": [],
   "source": [
    "# store the dataframe into a database\n",
    "from sqlalchemy import create_engine\n",
    "\n",
    "# Set up database connection\n",
    "engine = create_engine('sqlite:///london_crime.db', echo=False)\n",
    "\n",
    "# Define chunk size\n",
    "chunk_size = 1_000_000\n",
    "\n",
    "# Insert data into database in chunks\n",
    "j = 1\n",
    "for i in range(0, len(london_df), chunk_size):\n",
    "    chunk = london_df.iloc[i:i+chunk_size]\n",
    "    chunk.to_sql('street_data', con=engine, if_exists='append', index=False)\n",
    "    print(j*chunk_size, ' rows got inserted')\n",
    "    j += 1\n",
    "\n",
    "# Close the database connection and dispose of the engine\n",
    "engine.dispose()"
   ]
  },
  {
   "cell_type": "code",
   "execution_count": null,
   "metadata": {},
   "outputs": [],
   "source": [
    "london_df[london_df['Distance_to_London'] <= 10]"
   ]
  },
  {
   "cell_type": "code",
   "execution_count": null,
   "metadata": {},
   "outputs": [],
   "source": [
    "map_new=folium.Map()\n",
    "list_coor=london_df[['Longitude','Latitude']].head(100).values.tolist()\n",
    "for i in list_coor:\n",
    "    map_new.add_child(folium.Marker(location=[i[1],i[0]],icon=folium.Icon(color='green')))"
   ]
  },
  {
   "cell_type": "code",
   "execution_count": null,
   "metadata": {},
   "outputs": [],
   "source": [
    "map_new.save('Uk_crime.html')"
   ]
  },
  {
   "cell_type": "code",
   "execution_count": null,
   "metadata": {},
   "outputs": [],
   "source": [
    "map_new"
   ]
  }
 ],
 "metadata": {
  "kernelspec": {
   "display_name": "Python 3",
   "language": "python",
   "name": "python3"
  },
  "language_info": {
   "codemirror_mode": {
    "name": "ipython",
    "version": 3
   },
   "file_extension": ".py",
   "mimetype": "text/x-python",
   "name": "python",
   "nbconvert_exporter": "python",
   "pygments_lexer": "ipython3",
   "version": "3.9.7"
  },
  "orig_nbformat": 4
 },
 "nbformat": 4,
 "nbformat_minor": 2
}
