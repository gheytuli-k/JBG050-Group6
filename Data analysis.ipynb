{
 "cells": [
  {
   "cell_type": "code",
   "execution_count": 2,
   "id": "558cc8d5",
   "metadata": {},
   "outputs": [],
   "source": [
    "import numpy as np\n",
    "import pandas as pd\n",
    "import os"
   ]
  },
  {
   "cell_type": "code",
   "execution_count": 56,
   "id": "2f976f86",
   "metadata": {},
   "outputs": [
    {
     "name": "stdout",
     "output_type": "stream",
     "text": [
      "2010-12/2010-12-devon-and-cornwall-street.csv\n"
     ]
    }
   ],
   "source": [
    "def __main__(path):\n",
    "\n",
    "    #Makes the directories to store the csv files.\n",
    "    try:\n",
    "        os.mkdir(path + 'street')\n",
    "        os.mkdir(path + 'outcome')\n",
    "        os.mkdir(path + 'stop_search')\n",
    "\n",
    "    except:\n",
    "        pass\n",
    "\n",
    "    \n",
    "    is_date_file = lambda file_name: file_name.split('-')[0].isnumeric()\n",
    "\n",
    "    #To work with the CSV files efficiently, it is necessary to move them into a single directory categorized by their content.\n",
    "    for directory in os.listdir(path):\n",
    "        if is_date_file(directory):\n",
    "            for csv_file in os.listdir(path + directory):\n",
    "                file_info = ''.join(csv_file.split('-'))\n",
    "                source_path = os.path.join(os.path.abspath(path), directory, csv_file)\n",
    "\n",
    "                if 'stopandsearch' in file_info:\n",
    "                    os.rename(source_path, os.path.join(os.path.abspath(path + 'stopandsearch'), csv_file))\n",
    "\n",
    "                elif 'outcome' in file_info:\n",
    "                    os.rename(source_path, os.path.join(os.path.abspath(path + 'outcome'), csv_file))\n",
    "\n",
    "                elif 'street' in file_info:\n",
    "                    print(directory + '/' + csv_file)\n",
    "                    os.rename(source_path, os.path.join(os.path.abspath(path + 'street'), csv_file))\n",
    "\n",
    "        \n",
    "__main__('Data/')"
   ]
  }
 ],
 "metadata": {
  "kernelspec": {
   "display_name": "Python 3 (ipykernel)",
   "language": "python",
   "name": "python3"
  },
  "language_info": {
   "codemirror_mode": {
    "name": "ipython",
    "version": 3
   },
   "file_extension": ".py",
   "mimetype": "text/x-python",
   "name": "python",
   "nbconvert_exporter": "python",
   "pygments_lexer": "ipython3",
   "version": "3.9.7"
  }
 },
 "nbformat": 4,
 "nbformat_minor": 5
}
